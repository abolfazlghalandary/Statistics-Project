{
 "cells": [
  {
   "cell_type": "code",
   "execution_count": 1,
   "id": "f8cd396c",
   "metadata": {},
   "outputs": [],
   "source": [
    "import numpy as np"
   ]
  },
  {
   "cell_type": "code",
   "execution_count": 4,
   "id": "5342bc4a",
   "metadata": {},
   "outputs": [],
   "source": [
    "def log_likelihood(F, A):\n",
    "    FRows, FCols = F.shape\n",
    "    ARows, ACols = A.shape\n",
    "    log_likelihood = 0\n",
    "    for u in range(ARows):\n",
    "        for v in range(ACols):\n",
    "            if(u == v):\n",
    "                continue\n",
    "            Fs = 1\n",
    "            for i in range(FCols):\n",
    "                Fs *= exp(-1 * F[u, i] * F[v, i])\n",
    "\n",
    "            a = A[u, v]\n",
    "            log_likelihood += log(a + Fs - 2 * a * Fs)\n",
    "    return log_likelihood"
   ]
  },
  {
   "cell_type": "code",
   "execution_count": 5,
   "id": "57fbcd97",
   "metadata": {},
   "outputs": [],
   "source": [
    "def by_rond_F_k(F, A, u, k):\n",
    "    rond_F_k = 0\n",
    "    FRows, FCols = F.shape\n",
    "    ARows, ACols = A.shape\n",
    "    for v in range(ACols):\n",
    "        if(u == v):\n",
    "            continue\n",
    "        Fs = 1\n",
    "        for i in range(FCols):\n",
    "            Fs *= exp(-1 * F[u, i] * F[v, i])\n",
    "        a = A[u, v]\n",
    "        rond_F_k += (2*a - 1) * F[v, k] * Fs / (a + Fs - 2 * a * Fs)\n",
    "    rond_F_k *= 2\n",
    "    return rond_F_k\n",
    "\n",
    "def gradient(F, A, u):\n",
    "    gradient = []\n",
    "    FRows, FCols = F.shape\n",
    "    for k in range(FCols):\n",
    "        gradient.push(by_rond_F_k(F, A, u, k))\n",
    "    return gradient"
   ]
  },
  {
   "cell_type": "code",
   "execution_count": 6,
   "id": "84ae40a8",
   "metadata": {},
   "outputs": [],
   "source": [
    "def train(A, C, iterations = 200):\n",
    "    # initialize an F\n",
    "    N = A.shape[0]\n",
    "    F = np.random.rand(N,C)\n",
    "\n",
    "    for n in range(iterations):\n",
    "        for person in range(N):\n",
    "            grad = gradient(F, A, person)\n",
    "            F[person] += 0.005*grad # updating F\n",
    "            F[person] = np.maximum(0.001, F[person]) # F should be nonnegative\n",
    "            ll = log_likelihood(F, A)\n",
    "            print('At step %4i logliklihood is %5.4f'%(n,ll))\n",
    "\n",
    "    return F"
   ]
  },
  {
   "cell_type": "code",
   "execution_count": null,
   "id": "54d3d2f7",
   "metadata": {},
   "outputs": [],
   "source": []
  }
 ],
 "metadata": {
  "kernelspec": {
   "display_name": "Python 3",
   "language": "python",
   "name": "python3"
  },
  "language_info": {
   "codemirror_mode": {
    "name": "ipython",
    "version": 3
   },
   "file_extension": ".py",
   "mimetype": "text/x-python",
   "name": "python",
   "nbconvert_exporter": "python",
   "pygments_lexer": "ipython3",
   "version": "3.11.0 (main, Oct 24 2022, 18:26:48) [MSC v.1933 64 bit (AMD64)]"
  },
  "vscode": {
   "interpreter": {
    "hash": "c261aea317cc0286b3b3261fbba9abdec21eaa57589985bb7a274bf54d6cc0a7"
   }
  }
 },
 "nbformat": 4,
 "nbformat_minor": 5
}
